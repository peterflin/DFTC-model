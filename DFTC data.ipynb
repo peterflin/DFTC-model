{
 "cells": [
  {
   "cell_type": "markdown",
   "metadata": {},
   "source": [
    "# DFTC模型資料前處理"
   ]
  },
  {
   "cell_type": "markdown",
   "metadata": {},
   "source": [
    "## 引入套件"
   ]
  },
  {
   "cell_type": "code",
   "execution_count": 1,
   "metadata": {},
   "outputs": [
    {
     "name": "stderr",
     "output_type": "stream",
     "text": [
      "Building prefix dict from the default dictionary ...\n",
      "Loading model from cache /tmp/jieba.cache\n",
      "Loading model cost 0.582 seconds.\n",
      "Prefix dict has been built successfully.\n"
     ]
    }
   ],
   "source": [
    "import pymysql\n",
    "import pandas as pd\n",
    "import numpy as np\n",
    "from tqdm import tqdm\n",
    "import random\n",
    "import json\n",
    "import jieba\n",
    "jieba.enable_parallel(6)"
   ]
  },
  {
   "cell_type": "markdown",
   "metadata": {},
   "source": [
    "## 獲取資料\n",
    "從資料庫中獲取資料"
   ]
  },
  {
   "cell_type": "code",
   "execution_count": 5,
   "metadata": {},
   "outputs": [],
   "source": [
    "db = pymysql.connect(host='140.128.102.114', user='user', passwd='pwd', charset='utf8', db='ptt_data')\n",
    "cursor = db.cursor()"
   ]
  },
  {
   "cell_type": "markdown",
   "metadata": {},
   "source": [
    "取得文章內容"
   ]
  },
  {
   "cell_type": "code",
   "execution_count": 6,
   "metadata": {},
   "outputs": [],
   "source": [
    "cursor.execute(\"select * from ptt_content where tp < '2020-10-01' and title not like '%[公告]%'\")\n",
    "content_result = cursor.fetchall()"
   ]
  },
  {
   "cell_type": "markdown",
   "metadata": {},
   "source": [
    "取得推文內容"
   ]
  },
  {
   "cell_type": "code",
   "execution_count": 7,
   "metadata": {},
   "outputs": [],
   "source": [
    "cursor.execute(\"select * from ptt_push where tp < '2020-10-10'\")\n",
    "push_result = cursor.fetchall()"
   ]
  },
  {
   "cell_type": "markdown",
   "metadata": {},
   "source": [
    "## 推文資料觀察"
   ]
  },
  {
   "cell_type": "code",
   "execution_count": 8,
   "metadata": {},
   "outputs": [],
   "source": [
    "push_df = pd.DataFrame(list(push_result))"
   ]
  },
  {
   "cell_type": "code",
   "execution_count": 9,
   "metadata": {},
   "outputs": [],
   "source": [
    "push_df.columns = ['url', 'seq', 'board', 'tag', 'content', 'tp', 'userid', 'reply']"
   ]
  },
  {
   "cell_type": "code",
   "execution_count": 10,
   "metadata": {},
   "outputs": [
    {
     "data": {
      "text/html": [
       "<div>\n",
       "<style scoped>\n",
       "    .dataframe tbody tr th:only-of-type {\n",
       "        vertical-align: middle;\n",
       "    }\n",
       "\n",
       "    .dataframe tbody tr th {\n",
       "        vertical-align: top;\n",
       "    }\n",
       "\n",
       "    .dataframe thead th {\n",
       "        text-align: right;\n",
       "    }\n",
       "</style>\n",
       "<table border=\"1\" class=\"dataframe\">\n",
       "  <thead>\n",
       "    <tr style=\"text-align: right;\">\n",
       "      <th></th>\n",
       "      <th>url</th>\n",
       "      <th>seq</th>\n",
       "      <th>board</th>\n",
       "      <th>tag</th>\n",
       "      <th>content</th>\n",
       "      <th>tp</th>\n",
       "      <th>userid</th>\n",
       "      <th>reply</th>\n",
       "    </tr>\n",
       "  </thead>\n",
       "  <tbody>\n",
       "    <tr>\n",
       "      <th>0</th>\n",
       "      <td>M.1577893589.A.8F1</td>\n",
       "      <td>1</td>\n",
       "      <td>HatePolitics</td>\n",
       "      <td>推</td>\n",
       "      <td>元兄 裴翊到底有沒有男友</td>\n",
       "      <td>2020-06-18 02:36:00</td>\n",
       "      <td>l9830826</td>\n",
       "      <td></td>\n",
       "    </tr>\n",
       "    <tr>\n",
       "      <th>1</th>\n",
       "      <td>M.1577893589.A.8F1</td>\n",
       "      <td>2</td>\n",
       "      <td>HatePolitics</td>\n",
       "      <td>→</td>\n",
       "      <td>翊沒有男友的機率應該比牛14號打擊率低</td>\n",
       "      <td>2020-06-18 02:39:00</td>\n",
       "      <td>septhsu</td>\n",
       "      <td>--</td>\n",
       "    </tr>\n",
       "    <tr>\n",
       "      <th>2</th>\n",
       "      <td>M.1577894164.A.AF0</td>\n",
       "      <td>1</td>\n",
       "      <td>HatePolitics</td>\n",
       "      <td>推</td>\n",
       "      <td>元兄 裴翊到底有沒有男友</td>\n",
       "      <td>2020-06-18 02:36:00</td>\n",
       "      <td>l9830826</td>\n",
       "      <td></td>\n",
       "    </tr>\n",
       "    <tr>\n",
       "      <th>3</th>\n",
       "      <td>M.1577894164.A.AF0</td>\n",
       "      <td>2</td>\n",
       "      <td>HatePolitics</td>\n",
       "      <td>→</td>\n",
       "      <td>翊沒有男友的機率應該比牛14號打擊率低</td>\n",
       "      <td>2020-06-18 02:39:00</td>\n",
       "      <td>septhsu</td>\n",
       "      <td>--</td>\n",
       "    </tr>\n",
       "    <tr>\n",
       "      <th>4</th>\n",
       "      <td>M.1578190023.A.E48</td>\n",
       "      <td>1</td>\n",
       "      <td>HatePolitics</td>\n",
       "      <td>推</td>\n",
       "      <td>元兄 裴翊到底有沒有男友</td>\n",
       "      <td>2020-06-18 02:36:00</td>\n",
       "      <td>l9830826</td>\n",
       "      <td></td>\n",
       "    </tr>\n",
       "  </tbody>\n",
       "</table>\n",
       "</div>"
      ],
      "text/plain": [
       "                  url  seq         board tag              content  \\\n",
       "0  M.1577893589.A.8F1    1  HatePolitics   推         元兄 裴翊到底有沒有男友   \n",
       "1  M.1577893589.A.8F1    2  HatePolitics   →  翊沒有男友的機率應該比牛14號打擊率低   \n",
       "2  M.1577894164.A.AF0    1  HatePolitics   推         元兄 裴翊到底有沒有男友   \n",
       "3  M.1577894164.A.AF0    2  HatePolitics   →  翊沒有男友的機率應該比牛14號打擊率低   \n",
       "4  M.1578190023.A.E48    1  HatePolitics   推         元兄 裴翊到底有沒有男友   \n",
       "\n",
       "                   tp    userid reply  \n",
       "0 2020-06-18 02:36:00  l9830826        \n",
       "1 2020-06-18 02:39:00   septhsu    --  \n",
       "2 2020-06-18 02:36:00  l9830826        \n",
       "3 2020-06-18 02:39:00   septhsu    --  \n",
       "4 2020-06-18 02:36:00  l9830826        "
      ]
     },
     "execution_count": 10,
     "metadata": {},
     "output_type": "execute_result"
    }
   ],
   "source": [
    "push_df.head()"
   ]
  },
  {
   "cell_type": "code",
   "execution_count": 11,
   "metadata": {},
   "outputs": [],
   "source": [
    "push_group = push_df.groupby(\"url\")"
   ]
  },
  {
   "cell_type": "code",
   "execution_count": 14,
   "metadata": {},
   "outputs": [],
   "source": [
    "def get_time_range(row):\n",
    "    try:\n",
    "        df = push_group.get_group(row['url'])\n",
    "        return (df['tp'].values[-1] - df['tp'].values[0]) / np.timedelta64(1, 's')\n",
    "    except KeyError:\n",
    "        return 0.0"
   ]
  },
  {
   "cell_type": "markdown",
   "metadata": {},
   "source": [
    "## 文章資料觀察"
   ]
  },
  {
   "cell_type": "code",
   "execution_count": 15,
   "metadata": {},
   "outputs": [],
   "source": [
    "content_df = pd.DataFrame(list(content_result))"
   ]
  },
  {
   "cell_type": "code",
   "execution_count": 17,
   "metadata": {},
   "outputs": [],
   "source": [
    "content_df.columns = ['url', 'title', 'content', 'tp', 'author', 'board', 'ip', 'country']"
   ]
  },
  {
   "cell_type": "code",
   "execution_count": 18,
   "metadata": {
    "scrolled": true
   },
   "outputs": [
    {
     "data": {
      "text/html": [
       "<div>\n",
       "<style scoped>\n",
       "    .dataframe tbody tr th:only-of-type {\n",
       "        vertical-align: middle;\n",
       "    }\n",
       "\n",
       "    .dataframe tbody tr th {\n",
       "        vertical-align: top;\n",
       "    }\n",
       "\n",
       "    .dataframe thead th {\n",
       "        text-align: right;\n",
       "    }\n",
       "</style>\n",
       "<table border=\"1\" class=\"dataframe\">\n",
       "  <thead>\n",
       "    <tr style=\"text-align: right;\">\n",
       "      <th></th>\n",
       "      <th>url</th>\n",
       "      <th>title</th>\n",
       "      <th>content</th>\n",
       "      <th>tp</th>\n",
       "      <th>author</th>\n",
       "      <th>board</th>\n",
       "      <th>ip</th>\n",
       "      <th>country</th>\n",
       "    </tr>\n",
       "  </thead>\n",
       "  <tbody>\n",
       "    <tr>\n",
       "      <th>0</th>\n",
       "      <td>M.1588262410.A.1AB</td>\n",
       "      <td>[問卦] 肇事責任判斷？</td>\n",
       "      <td>有沒有機車停在慢車道熄火關燈撿東西\\n結果燈光昏暗下 撞倒他\\n初判出來是 一方未注意車況\\...</td>\n",
       "      <td>2020-05-01 00:00:08</td>\n",
       "      <td>maymay82407</td>\n",
       "      <td>Gossiping</td>\n",
       "      <td>101.12.68.2</td>\n",
       "      <td></td>\n",
       "    </tr>\n",
       "    <tr>\n",
       "      <th>1</th>\n",
       "      <td>M.1588262422.A.020</td>\n",
       "      <td>[問卦] 登入破一千五算ptt權威嗎</td>\n",
       "      <td>登入最近破1500了\\n這樣應該已經算老鳥了吧\\n\\n本魯每天用在ptt的時間是10小時up...</td>\n",
       "      <td>2020-05-01 00:00:20</td>\n",
       "      <td>DavFlow</td>\n",
       "      <td>Gossiping</td>\n",
       "      <td>223.140.98.213</td>\n",
       "      <td></td>\n",
       "    </tr>\n",
       "    <tr>\n",
       "      <th>2</th>\n",
       "      <td>M.1588262422.A.127</td>\n",
       "      <td>[問卦] 有沒有邊緣人的八卦</td>\n",
       "      <td>生日都快要過來\\n為什麼都沒人來祝賀呢？\\n\\n是被遺忘了嗎？\\n\\n還是被遺忘了？\\n\\n...</td>\n",
       "      <td>2020-05-01 00:00:18</td>\n",
       "      <td>organ63521</td>\n",
       "      <td>Gossiping</td>\n",
       "      <td>180.217.80.208</td>\n",
       "      <td></td>\n",
       "    </tr>\n",
       "    <tr>\n",
       "      <th>3</th>\n",
       "      <td>M.1588262469.A.B09</td>\n",
       "      <td>Re: [新聞] 殺警鄭男判無罪 精神科專家：建構社會安</td>\n",
       "      <td>: 殺警鄭男判無罪 精神科專家：建構社會安全網人人有責\\n: 2020-04-30 11:4...</td>\n",
       "      <td>2020-05-01 00:01:07</td>\n",
       "      <td>afiend0927</td>\n",
       "      <td>Gossiping</td>\n",
       "      <td>36.239.188.170</td>\n",
       "      <td></td>\n",
       "    </tr>\n",
       "    <tr>\n",
       "      <th>4</th>\n",
       "      <td>M.1588262484.A.D88</td>\n",
       "      <td>Re: [問卦] 為啥一堆郵輪取名公主號？</td>\n",
       "      <td>請問這家公司的公主號到底有多想停靠台灣補給?\\n\\n因為疫情關係，機關防守很嚴格拒絕該艘公主...</td>\n",
       "      <td>2020-05-01 00:01:21</td>\n",
       "      <td>kangta2030</td>\n",
       "      <td>Gossiping</td>\n",
       "      <td>61.230.68.131</td>\n",
       "      <td></td>\n",
       "    </tr>\n",
       "  </tbody>\n",
       "</table>\n",
       "</div>"
      ],
      "text/plain": [
       "                  url                         title  \\\n",
       "0  M.1588262410.A.1AB                  [問卦] 肇事責任判斷？   \n",
       "1  M.1588262422.A.020            [問卦] 登入破一千五算ptt權威嗎   \n",
       "2  M.1588262422.A.127                [問卦] 有沒有邊緣人的八卦   \n",
       "3  M.1588262469.A.B09  Re: [新聞] 殺警鄭男判無罪 精神科專家：建構社會安   \n",
       "4  M.1588262484.A.D88         Re: [問卦] 為啥一堆郵輪取名公主號？   \n",
       "\n",
       "                                             content                  tp  \\\n",
       "0  有沒有機車停在慢車道熄火關燈撿東西\\n結果燈光昏暗下 撞倒他\\n初判出來是 一方未注意車況\\... 2020-05-01 00:00:08   \n",
       "1  登入最近破1500了\\n這樣應該已經算老鳥了吧\\n\\n本魯每天用在ptt的時間是10小時up... 2020-05-01 00:00:20   \n",
       "2  生日都快要過來\\n為什麼都沒人來祝賀呢？\\n\\n是被遺忘了嗎？\\n\\n還是被遺忘了？\\n\\n... 2020-05-01 00:00:18   \n",
       "3  : 殺警鄭男判無罪 精神科專家：建構社會安全網人人有責\\n: 2020-04-30 11:4... 2020-05-01 00:01:07   \n",
       "4  請問這家公司的公主號到底有多想停靠台灣補給?\\n\\n因為疫情關係，機關防守很嚴格拒絕該艘公主... 2020-05-01 00:01:21   \n",
       "\n",
       "        author      board              ip country  \n",
       "0  maymay82407  Gossiping     101.12.68.2          \n",
       "1      DavFlow  Gossiping  223.140.98.213          \n",
       "2   organ63521  Gossiping  180.217.80.208          \n",
       "3   afiend0927  Gossiping  36.239.188.170          \n",
       "4   kangta2030  Gossiping   61.230.68.131          "
      ]
     },
     "execution_count": 18,
     "metadata": {},
     "output_type": "execute_result"
    }
   ],
   "source": [
    "content_df.head()"
   ]
  },
  {
   "cell_type": "markdown",
   "metadata": {},
   "source": [
    "### 計算每篇文章的第一篇推文與最後一篇推文的時間距離多久"
   ]
  },
  {
   "cell_type": "code",
   "execution_count": 19,
   "metadata": {},
   "outputs": [],
   "source": [
    "content_df['tp_range'] = content_df.apply(get_time_range, axis=1)"
   ]
  },
  {
   "cell_type": "code",
   "execution_count": 20,
   "metadata": {
    "scrolled": true
   },
   "outputs": [
    {
     "data": {
      "text/html": [
       "<div>\n",
       "<style scoped>\n",
       "    .dataframe tbody tr th:only-of-type {\n",
       "        vertical-align: middle;\n",
       "    }\n",
       "\n",
       "    .dataframe tbody tr th {\n",
       "        vertical-align: top;\n",
       "    }\n",
       "\n",
       "    .dataframe thead th {\n",
       "        text-align: right;\n",
       "    }\n",
       "</style>\n",
       "<table border=\"1\" class=\"dataframe\">\n",
       "  <thead>\n",
       "    <tr style=\"text-align: right;\">\n",
       "      <th></th>\n",
       "      <th>url</th>\n",
       "      <th>title</th>\n",
       "      <th>content</th>\n",
       "      <th>tp</th>\n",
       "      <th>author</th>\n",
       "      <th>board</th>\n",
       "      <th>ip</th>\n",
       "      <th>country</th>\n",
       "      <th>tp_range</th>\n",
       "    </tr>\n",
       "  </thead>\n",
       "  <tbody>\n",
       "    <tr>\n",
       "      <th>0</th>\n",
       "      <td>M.1588262410.A.1AB</td>\n",
       "      <td>[問卦] 肇事責任判斷？</td>\n",
       "      <td>有沒有機車停在慢車道熄火關燈撿東西\\n結果燈光昏暗下 撞倒他\\n初判出來是 一方未注意車況\\...</td>\n",
       "      <td>2020-05-01 00:00:08</td>\n",
       "      <td>maymay82407</td>\n",
       "      <td>Gossiping</td>\n",
       "      <td>101.12.68.2</td>\n",
       "      <td></td>\n",
       "      <td>3180.0</td>\n",
       "    </tr>\n",
       "    <tr>\n",
       "      <th>1</th>\n",
       "      <td>M.1588262422.A.020</td>\n",
       "      <td>[問卦] 登入破一千五算ptt權威嗎</td>\n",
       "      <td>登入最近破1500了\\n這樣應該已經算老鳥了吧\\n\\n本魯每天用在ptt的時間是10小時up...</td>\n",
       "      <td>2020-05-01 00:00:20</td>\n",
       "      <td>DavFlow</td>\n",
       "      <td>Gossiping</td>\n",
       "      <td>223.140.98.213</td>\n",
       "      <td></td>\n",
       "      <td>33240.0</td>\n",
       "    </tr>\n",
       "    <tr>\n",
       "      <th>2</th>\n",
       "      <td>M.1588262422.A.127</td>\n",
       "      <td>[問卦] 有沒有邊緣人的八卦</td>\n",
       "      <td>生日都快要過來\\n為什麼都沒人來祝賀呢？\\n\\n是被遺忘了嗎？\\n\\n還是被遺忘了？\\n\\n...</td>\n",
       "      <td>2020-05-01 00:00:18</td>\n",
       "      <td>organ63521</td>\n",
       "      <td>Gossiping</td>\n",
       "      <td>180.217.80.208</td>\n",
       "      <td></td>\n",
       "      <td>420.0</td>\n",
       "    </tr>\n",
       "    <tr>\n",
       "      <th>3</th>\n",
       "      <td>M.1588262469.A.B09</td>\n",
       "      <td>Re: [新聞] 殺警鄭男判無罪 精神科專家：建構社會安</td>\n",
       "      <td>: 殺警鄭男判無罪 精神科專家：建構社會安全網人人有責\\n: 2020-04-30 11:4...</td>\n",
       "      <td>2020-05-01 00:01:07</td>\n",
       "      <td>afiend0927</td>\n",
       "      <td>Gossiping</td>\n",
       "      <td>36.239.188.170</td>\n",
       "      <td></td>\n",
       "      <td>59820.0</td>\n",
       "    </tr>\n",
       "    <tr>\n",
       "      <th>4</th>\n",
       "      <td>M.1588262484.A.D88</td>\n",
       "      <td>Re: [問卦] 為啥一堆郵輪取名公主號？</td>\n",
       "      <td>請問這家公司的公主號到底有多想停靠台灣補給?\\n\\n因為疫情關係，機關防守很嚴格拒絕該艘公主...</td>\n",
       "      <td>2020-05-01 00:01:21</td>\n",
       "      <td>kangta2030</td>\n",
       "      <td>Gossiping</td>\n",
       "      <td>61.230.68.131</td>\n",
       "      <td></td>\n",
       "      <td>9540.0</td>\n",
       "    </tr>\n",
       "  </tbody>\n",
       "</table>\n",
       "</div>"
      ],
      "text/plain": [
       "                  url                         title  \\\n",
       "0  M.1588262410.A.1AB                  [問卦] 肇事責任判斷？   \n",
       "1  M.1588262422.A.020            [問卦] 登入破一千五算ptt權威嗎   \n",
       "2  M.1588262422.A.127                [問卦] 有沒有邊緣人的八卦   \n",
       "3  M.1588262469.A.B09  Re: [新聞] 殺警鄭男判無罪 精神科專家：建構社會安   \n",
       "4  M.1588262484.A.D88         Re: [問卦] 為啥一堆郵輪取名公主號？   \n",
       "\n",
       "                                             content                  tp  \\\n",
       "0  有沒有機車停在慢車道熄火關燈撿東西\\n結果燈光昏暗下 撞倒他\\n初判出來是 一方未注意車況\\... 2020-05-01 00:00:08   \n",
       "1  登入最近破1500了\\n這樣應該已經算老鳥了吧\\n\\n本魯每天用在ptt的時間是10小時up... 2020-05-01 00:00:20   \n",
       "2  生日都快要過來\\n為什麼都沒人來祝賀呢？\\n\\n是被遺忘了嗎？\\n\\n還是被遺忘了？\\n\\n... 2020-05-01 00:00:18   \n",
       "3  : 殺警鄭男判無罪 精神科專家：建構社會安全網人人有責\\n: 2020-04-30 11:4... 2020-05-01 00:01:07   \n",
       "4  請問這家公司的公主號到底有多想停靠台灣補給?\\n\\n因為疫情關係，機關防守很嚴格拒絕該艘公主... 2020-05-01 00:01:21   \n",
       "\n",
       "        author      board              ip country  tp_range  \n",
       "0  maymay82407  Gossiping     101.12.68.2            3180.0  \n",
       "1      DavFlow  Gossiping  223.140.98.213           33240.0  \n",
       "2   organ63521  Gossiping  180.217.80.208             420.0  \n",
       "3   afiend0927  Gossiping  36.239.188.170           59820.0  \n",
       "4   kangta2030  Gossiping   61.230.68.131            9540.0  "
      ]
     },
     "execution_count": 20,
     "metadata": {},
     "output_type": "execute_result"
    }
   ],
   "source": [
    "content_df.head()"
   ]
  },
  {
   "cell_type": "markdown",
   "metadata": {},
   "source": [
    "## 只取第一個小時後 & 一天內的推文內容"
   ]
  },
  {
   "cell_type": "code",
   "execution_count": 21,
   "metadata": {},
   "outputs": [],
   "source": [
    "content_df_f = content_df.loc[(content_df['tp_range'] > 3600.0) & (content_df['tp_range'] < 86400.0)]"
   ]
  },
  {
   "cell_type": "code",
   "execution_count": 23,
   "metadata": {},
   "outputs": [
    {
     "data": {
      "text/html": [
       "<div>\n",
       "<style scoped>\n",
       "    .dataframe tbody tr th:only-of-type {\n",
       "        vertical-align: middle;\n",
       "    }\n",
       "\n",
       "    .dataframe tbody tr th {\n",
       "        vertical-align: top;\n",
       "    }\n",
       "\n",
       "    .dataframe thead th {\n",
       "        text-align: right;\n",
       "    }\n",
       "</style>\n",
       "<table border=\"1\" class=\"dataframe\">\n",
       "  <thead>\n",
       "    <tr style=\"text-align: right;\">\n",
       "      <th></th>\n",
       "      <th>url</th>\n",
       "      <th>title</th>\n",
       "      <th>content</th>\n",
       "      <th>tp</th>\n",
       "      <th>author</th>\n",
       "      <th>board</th>\n",
       "      <th>ip</th>\n",
       "      <th>country</th>\n",
       "      <th>tp_range</th>\n",
       "    </tr>\n",
       "  </thead>\n",
       "  <tbody>\n",
       "    <tr>\n",
       "      <th>1</th>\n",
       "      <td>M.1588262422.A.020</td>\n",
       "      <td>[問卦] 登入破一千五算ptt權威嗎</td>\n",
       "      <td>登入最近破1500了\\n這樣應該已經算老鳥了吧\\n\\n本魯每天用在ptt的時間是10小時up...</td>\n",
       "      <td>2020-05-01 00:00:20</td>\n",
       "      <td>DavFlow</td>\n",
       "      <td>Gossiping</td>\n",
       "      <td>223.140.98.213</td>\n",
       "      <td></td>\n",
       "      <td>33240.0</td>\n",
       "    </tr>\n",
       "    <tr>\n",
       "      <th>3</th>\n",
       "      <td>M.1588262469.A.B09</td>\n",
       "      <td>Re: [新聞] 殺警鄭男判無罪 精神科專家：建構社會安</td>\n",
       "      <td>: 殺警鄭男判無罪 精神科專家：建構社會安全網人人有責\\n: 2020-04-30 11:4...</td>\n",
       "      <td>2020-05-01 00:01:07</td>\n",
       "      <td>afiend0927</td>\n",
       "      <td>Gossiping</td>\n",
       "      <td>36.239.188.170</td>\n",
       "      <td></td>\n",
       "      <td>59820.0</td>\n",
       "    </tr>\n",
       "    <tr>\n",
       "      <th>4</th>\n",
       "      <td>M.1588262484.A.D88</td>\n",
       "      <td>Re: [問卦] 為啥一堆郵輪取名公主號？</td>\n",
       "      <td>請問這家公司的公主號到底有多想停靠台灣補給?\\n\\n因為疫情關係，機關防守很嚴格拒絕該艘公主...</td>\n",
       "      <td>2020-05-01 00:01:21</td>\n",
       "      <td>kangta2030</td>\n",
       "      <td>Gossiping</td>\n",
       "      <td>61.230.68.131</td>\n",
       "      <td></td>\n",
       "      <td>9540.0</td>\n",
       "    </tr>\n",
       "    <tr>\n",
       "      <th>6</th>\n",
       "      <td>M.1588262520.A.358</td>\n",
       "      <td>Re: [新聞] 【殺警判無罪】「思覺失調症裝不出來的！</td>\n",
       "      <td>: 1.媒體來源:\\n: 蘋果日報\\n: 2.記者署名:\\n: 吳慧芬、李恩慈／綜合報導\\n...</td>\n",
       "      <td>2020-05-01 00:01:58</td>\n",
       "      <td>ip001</td>\n",
       "      <td>Gossiping</td>\n",
       "      <td>114.136.224.161</td>\n",
       "      <td></td>\n",
       "      <td>5760.0</td>\n",
       "    </tr>\n",
       "    <tr>\n",
       "      <th>7</th>\n",
       "      <td>M.1588262528.A.C9E</td>\n",
       "      <td>[新聞] 世衛開會 評估新冠肺炎是否維持國際緊急</td>\n",
       "      <td>1.媒體來源:\\n經濟日報\\n\\n2.記者署名:\\n中央社 記者唐佩君\\n\\n3.完整新聞標...</td>\n",
       "      <td>2020-05-01 00:02:04</td>\n",
       "      <td>zeuswell</td>\n",
       "      <td>Gossiping</td>\n",
       "      <td>27.52.158.35</td>\n",
       "      <td></td>\n",
       "      <td>33180.0</td>\n",
       "    </tr>\n",
       "  </tbody>\n",
       "</table>\n",
       "</div>"
      ],
      "text/plain": [
       "                  url                         title  \\\n",
       "1  M.1588262422.A.020            [問卦] 登入破一千五算ptt權威嗎   \n",
       "3  M.1588262469.A.B09  Re: [新聞] 殺警鄭男判無罪 精神科專家：建構社會安   \n",
       "4  M.1588262484.A.D88         Re: [問卦] 為啥一堆郵輪取名公主號？   \n",
       "6  M.1588262520.A.358  Re: [新聞] 【殺警判無罪】「思覺失調症裝不出來的！   \n",
       "7  M.1588262528.A.C9E      [新聞] 世衛開會 評估新冠肺炎是否維持國際緊急   \n",
       "\n",
       "                                             content                  tp  \\\n",
       "1  登入最近破1500了\\n這樣應該已經算老鳥了吧\\n\\n本魯每天用在ptt的時間是10小時up... 2020-05-01 00:00:20   \n",
       "3  : 殺警鄭男判無罪 精神科專家：建構社會安全網人人有責\\n: 2020-04-30 11:4... 2020-05-01 00:01:07   \n",
       "4  請問這家公司的公主號到底有多想停靠台灣補給?\\n\\n因為疫情關係，機關防守很嚴格拒絕該艘公主... 2020-05-01 00:01:21   \n",
       "6  : 1.媒體來源:\\n: 蘋果日報\\n: 2.記者署名:\\n: 吳慧芬、李恩慈／綜合報導\\n... 2020-05-01 00:01:58   \n",
       "7  1.媒體來源:\\n經濟日報\\n\\n2.記者署名:\\n中央社 記者唐佩君\\n\\n3.完整新聞標... 2020-05-01 00:02:04   \n",
       "\n",
       "       author      board               ip country  tp_range  \n",
       "1     DavFlow  Gossiping   223.140.98.213           33240.0  \n",
       "3  afiend0927  Gossiping   36.239.188.170           59820.0  \n",
       "4  kangta2030  Gossiping    61.230.68.131            9540.0  \n",
       "6       ip001  Gossiping  114.136.224.161            5760.0  \n",
       "7    zeuswell  Gossiping     27.52.158.35           33180.0  "
      ]
     },
     "execution_count": 23,
     "metadata": {},
     "output_type": "execute_result"
    }
   ],
   "source": [
    "content_df_f.head()"
   ]
  },
  {
   "cell_type": "markdown",
   "metadata": {},
   "source": [
    "## 製作累積量特徵\n",
    "將每篇文章的所有推文資料以5分鐘為一組做group by  \n",
    "計算第一個小時中每5分鐘的推文數量成長量 & 分布量"
   ]
  },
  {
   "cell_type": "code",
   "execution_count": 61,
   "metadata": {},
   "outputs": [
    {
     "name": "stderr",
     "output_type": "stream",
     "text": [
      "100%|██████████| 145522/145522 [09:42<00:00, 249.61it/s]\n"
     ]
    }
   ],
   "source": [
    "seq_data = []\n",
    "seq_data2 = []\n",
    "level = []\n",
    "for url in tqdm(content_df_f['url']):\n",
    "    seq_gp = push_group.get_group(url).groupby(pd.Grouper(key='tp',freq='300s'))  # 5分鐘為一組做group by\n",
    "    seq = seq_gp.count()['url'].values.cumsum().tolist()[:12]  # 成長量\n",
    "    seq += [-1] * (12-len(seq))  # 資料不足1小時時補齊至1小時\n",
    "    seq2 = seq_gp.count()['url'].values.tolist()[:12]  # 分布量\n",
    "    seq2 += [0] * (12-len(seq2))  # 資料不足1小時時補齊至1小時\n",
    "    level.append(len(push_group.get_group(url)))  # 每篇文章總推文數量\n",
    "    seq_data.append(seq)\n",
    "    seq_data2.append(seq2)"
   ]
  },
  {
   "cell_type": "markdown",
   "metadata": {},
   "source": [
    "寫檔"
   ]
  },
  {
   "cell_type": "code",
   "execution_count": 62,
   "metadata": {},
   "outputs": [],
   "source": [
    "with open(\"data.json\", \"w\") as f:\n",
    "    json.dump({\n",
    "        \"urls\": content_df_f['url'].values.tolist(),\n",
    "        \"seq_data\": seq_data,\n",
    "        \"seq_data2\": seq_data2,\n",
    "        \"level\": level,\n",
    "        \"content\": content_data,\n",
    "        \"author\": content_df_f['author'].values.tolist(),\n",
    "        \"publish_time\": content_df_f['publish_time'].values.tolist()\n",
    "    }, f)"
   ]
  },
  {
   "cell_type": "markdown",
   "metadata": {},
   "source": [
    "## 文章內容前處理\n",
    "- 斷詞\n",
    "- 對齊每篇長度"
   ]
  },
  {
   "cell_type": "code",
   "execution_count": 32,
   "metadata": {},
   "outputs": [],
   "source": [
    "source_data = {\"urls\": content_df_f['url'].values.tolist(), \"seq_data\": seq_data, \"level\": level, \"seq_data2\": seq_data2}"
   ]
  },
  {
   "cell_type": "code",
   "execution_count": 33,
   "metadata": {},
   "outputs": [],
   "source": [
    "seq_data = source_data['seq_data']\n",
    "level = source_data['level']\n",
    "urls = source_data['urls']"
   ]
  },
  {
   "cell_type": "markdown",
   "metadata": {},
   "source": [
    "將資料進行shuffle"
   ]
  },
  {
   "cell_type": "code",
   "execution_count": 35,
   "metadata": {},
   "outputs": [],
   "source": [
    "row_pair = list(zip(seq_data, level, urls))\n",
    "random.seed(1)\n",
    "random.shuffle(row_pair)\n",
    "seq_data, level, urls = zip(*row_pair)"
   ]
  },
  {
   "cell_type": "markdown",
   "metadata": {},
   "source": [
    "取得stop word & 讀取jieba的自定義字典"
   ]
  },
  {
   "cell_type": "code",
   "execution_count": 31,
   "metadata": {},
   "outputs": [],
   "source": [
    "# 讀取jieba的自定義字典\n",
    "jieba.load_userdict(\"name\")\n",
    "jieba.load_userdict(\"ldkrsi_dict_zh_tw.txt.big\")\n",
    "jieba.load_userdict(\"jieba_dict.txt.big\")\n",
    "# 取得stop word\n",
    "with open(\"stopwords.json\", 'r', encoding='utf8') as f:\n",
    "    stop_wd = {}\n",
    "    for w in json.load(f):\n",
    "        stop_wd[w] = len(stop_wd)\n",
    "with open(\"stopwords2.json\", 'r', encoding='utf8') as f:\n",
    "    for w in json.load(f):\n",
    "        if w not in stop_wd:\n",
    "            stop_wd[w] = len(stop_wd)"
   ]
  },
  {
   "cell_type": "code",
   "execution_count": 32,
   "metadata": {},
   "outputs": [],
   "source": [
    "stop_wd_dict = dict([(w, i) for i, w in enumerate(stop_wd)])"
   ]
  },
  {
   "cell_type": "markdown",
   "metadata": {},
   "source": [
    "將資料進行斷詞"
   ]
  },
  {
   "cell_type": "code",
   "execution_count": 39,
   "metadata": {},
   "outputs": [
    {
     "name": "stderr",
     "output_type": "stream",
     "text": [
      "100%|██████████| 145522/145522 [03:47<00:00, 638.48it/s]\n"
     ]
    }
   ],
   "source": [
    "content_data = []\n",
    "for row in tqdm(content_df_f['content']):\n",
    "    words = []\n",
    "    for w in jieba.cut(row):\n",
    "        try:\n",
    "            stop_wd_dict[w]\n",
    "            continue\n",
    "        except KeyError:\n",
    "            words.append(w)\n",
    "    content_data.append(words[:126])  # 將文章詞數量對齊至126個詞"
   ]
  },
  {
   "cell_type": "markdown",
   "metadata": {},
   "source": [
    "## 製作以下三種特徵資料\n",
    "- publish time\n",
    "- content length\n",
    "- fans number of publisher"
   ]
  },
  {
   "cell_type": "code",
   "execution_count": 42,
   "metadata": {},
   "outputs": [],
   "source": [
    "push4url = push_df.groupby('url')\n",
    "author_gp = content_df.groupby(\"author\")"
   ]
  },
  {
   "cell_type": "code",
   "execution_count": 43,
   "metadata": {},
   "outputs": [
    {
     "name": "stderr",
     "output_type": "stream",
     "text": [
      "100%|██████████| 19411/19411 [03:26<00:00, 93.87it/s] \n"
     ]
    }
   ],
   "source": [
    "pop_author = {}\n",
    "for author in tqdm(author_gp.groups):\n",
    "    Aui = 0\n",
    "    pop_a = 0\n",
    "    total_comments = 0\n",
    "    pos = 0\n",
    "    nag = 0\n",
    "    for url in author_gp.get_group(author)['url']:\n",
    "        Aui += 1\n",
    "        try:\n",
    "            comments = push4url.get_group(url)\n",
    "            total_comments += len(comments)\n",
    "        except:\n",
    "            comments = pd.DataFrame(columns=['url', 'seq', 'board', 'tag', 'content', 'time', 'userid', 'reply'])\n",
    "        total_comments += len(comments)\n",
    "        if len(comments) > 175:\n",
    "            pop_a += 1\n",
    "        # 每篇的推、噓總量\n",
    "        for tag in comments['tag']:\n",
    "            if tag == \"推\":\n",
    "                pos += 1\n",
    "            elif tag == \"噓\":\n",
    "                nag += 1\n",
    "    pop_author[author] = {\n",
    "        \"pop_a\": pop_a / Aui,\n",
    "        \"avg_comment\": total_comments / Aui,\n",
    "        \"avg_pos\": pos / Aui,\n",
    "        \"avg_nag\": nag / Aui\n",
    "    }"
   ]
  },
  {
   "cell_type": "code",
   "execution_count": 44,
   "metadata": {},
   "outputs": [],
   "source": [
    "# 存檔\n",
    "with open(\"author_feature.json\", \"w\") as f:\n",
    "    json.dump(pop_author, f)"
   ]
  },
  {
   "cell_type": "code",
   "execution_count": null,
   "metadata": {},
   "outputs": [],
   "source": []
  }
 ],
 "metadata": {
  "kernelspec": {
   "display_name": "Python 3 (ipykernel)",
   "language": "python",
   "name": "python3"
  },
  "language_info": {
   "codemirror_mode": {
    "name": "ipython",
    "version": 3
   },
   "file_extension": ".py",
   "mimetype": "text/x-python",
   "name": "python",
   "nbconvert_exporter": "python",
   "pygments_lexer": "ipython3",
   "version": "3.9.13"
  }
 },
 "nbformat": 4,
 "nbformat_minor": 4
}

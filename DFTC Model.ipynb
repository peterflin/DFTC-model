{
 "cells": [
  {
   "cell_type": "markdown",
   "metadata": {},
   "source": [
    "# 訓練DFCT模型"
   ]
  },
  {
   "cell_type": "markdown",
   "metadata": {},
   "source": [
    "## 引入套件"
   ]
  },
  {
   "cell_type": "code",
   "execution_count": 1,
   "metadata": {},
   "outputs": [],
   "source": [
    "import torch\n",
    "import torch.nn as nn\n",
    "import torch.nn.functional as F\n",
    "import json\n",
    "import math\n",
    "import random\n",
    "import time\n",
    "from sklearn.linear_model import LinearRegression\n",
    "import numpy as np\n",
    "import pandas as pd\n",
    "import matplotlib.pyplot as plt\n",
    "import networkx as nx"
   ]
  },
  {
   "cell_type": "markdown",
   "metadata": {},
   "source": [
    "## 模型定義\n",
    "### transformer模型"
   ]
  },
  {
   "cell_type": "code",
   "execution_count": 4,
   "metadata": {},
   "outputs": [],
   "source": [
    "class TransformerModel(nn.Module):\n",
    "\n",
    "    def __init__(self, ntoken, ninp, nhead, nhid, nlayers, dropout=0.5):\n",
    "        super(TransformerModel, self).__init__()\n",
    "        from torch.nn import TransformerEncoder, TransformerEncoderLayer\n",
    "        self.model_type = 'Transformer'\n",
    "        self.src_mask = None\n",
    "        self.pos_encoder = PositionalEncoding(ninp, dropout)\n",
    "        encoder_layers = TransformerEncoderLayer(ninp, nhead, nhid, dropout)\n",
    "        self.transformer_encoder = TransformerEncoder(encoder_layers, nlayers)\n",
    "        self.encoder = nn.Embedding(ntoken, ninp)\n",
    "        self.ninp = ninp\n",
    "        self.init_weights()\n",
    "\n",
    "    def _generate_square_subsequent_mask(self, sz):\n",
    "        mask = (torch.triu(torch.ones(sz, sz)) == 1).transpose(0, 1)\n",
    "        mask = mask.float().masked_fill(mask == 0, float('-inf')).masked_fill(mask == 1, float(0.0))\n",
    "        return mask\n",
    "\n",
    "    def init_weights(self):\n",
    "        initrange = 0.1\n",
    "        self.encoder.weight.data.uniform_(-initrange, initrange)\n",
    "\n",
    "    def forward(self, src):\n",
    "#         if self.src_mask is None or self.src_mask.size(0) != src.size(0):\n",
    "#             device = src.device\n",
    "#             mask = self._generate_square_subsequent_mask(src.size(0)).to(device)\n",
    "#             self.src_mask = mask\n",
    "\n",
    "        src = self.encoder(src) / math.sqrt(self.ninp)\n",
    "        src = self.pos_encoder(src)\n",
    "        output = self.transformer_encoder(src, self.src_mask)\n",
    "        return output\n",
    "\n",
    "\n",
    "class PositionalEncoding(nn.Module):\n",
    "\n",
    "    def __init__(self, d_model, dropout=0.1, max_len=5000):\n",
    "        super(PositionalEncoding, self).__init__()\n",
    "        self.dropout = nn.Dropout(p=dropout)\n",
    "\n",
    "        pe = torch.zeros(max_len, d_model)\n",
    "        position = torch.arange(0, max_len, dtype=torch.float).unsqueeze(1)\n",
    "        div_term = torch.exp(torch.arange(0, d_model, 2).float() * (-math.log(10000.0) / d_model))\n",
    "        pe[:, 0::2] = torch.sin(position * div_term)\n",
    "        pe[:, 1::2] = torch.cos(position * div_term)\n",
    "        pe = pe.unsqueeze(0).transpose(0, 1)\n",
    "        self.register_buffer('pe', pe)\n",
    "\n",
    "    def forward(self, x):\n",
    "        x = x + self.pe[:x.size(0), :]\n",
    "        return self.dropout(x)"
   ]
  },
  {
   "cell_type": "markdown",
   "metadata": {},
   "source": [
    "### temporal模型定義"
   ]
  },
  {
   "cell_type": "code",
   "execution_count": 5,
   "metadata": {
    "scrolled": true
   },
   "outputs": [],
   "source": [
    "class TemporalLSTM(nn.Module):\n",
    "    def __init__(self, input_size, hid_size):\n",
    "        super(TemporalLSTM, self).__init__()\n",
    "        self.lstm = nn.LSTM(input_size, hid_size)\n",
    "    \n",
    "    def forward(self, x):\n",
    "        output, (h, c) = self.lstm(x)\n",
    "        return output[:, -1]\n",
    "\n",
    "class TemporalCNN(nn.Module):\n",
    "    def __init__(self, input_size, seq_max_len, hid_size):\n",
    "        super(TemporalCNN, self).__init__()\n",
    "        self.conv1 = nn.Conv1d(in_channels=input_size, out_channels=1, kernel_size=1, padding=0)\n",
    "        self.conv3 = nn.Conv1d(in_channels=input_size, out_channels=1, kernel_size=3, padding=1)\n",
    "        self.conv5 = nn.Conv1d(in_channels=input_size, out_channels=1, kernel_size=5, padding=2)\n",
    "        self.conv2 = nn.Conv1d(in_channels=input_size, out_channels=1, kernel_size=2, padding=0)\n",
    "        self.conv4 = nn.Conv1d(in_channels=input_size, out_channels=1, kernel_size=4, padding=1)\n",
    "        self.W = nn.Linear(5, hid_size)\n",
    "        self.dense_q = nn.Linear(5, hid_size)\n",
    "        self.dense_k = nn.Linear(5, hid_size)\n",
    "        self.dense_v = nn.Linear(5, hid_size)\n",
    "        self.V = nn.Parameter(torch.randn(hid_size, seq_max_len))\n",
    "        \n",
    "    def forward(self, x, pad):\n",
    "        # x has been transposed\n",
    "        conv1_x = torch.transpose(self.conv1(x), 1, 2)\n",
    "        conv3_x = torch.transpose(self.conv3(x), 1, 2)\n",
    "        conv5_x = torch.transpose(self.conv5(x), 1, 2)\n",
    "        conv2_in = torch.cat([x, pad[0]], dim=2)\n",
    "        conv2_x = torch.transpose(self.conv2(conv2_in), 1, 2)\n",
    "        conv4_x = torch.transpose(self.conv4(torch.cat([x, pad[1]], dim=2)), 1, 2)\n",
    "        C = torch.cat([conv1_x, conv2_x, conv3_x, conv4_x, conv5_x], dim=2)  # 將所有cnn結果concat -> (batch, seq_len, 5)\n",
    "        C_w = torch.tanh(torch.sum(self.W(C), dim=1))\n",
    "        print(self.W(C).shape)\n",
    "        att = nn.Softmax(dim=1)(torch.matmul(C_w, self.V)).unsqueeze(2)\n",
    "        output = torch.sum(torch.mul(att, C), dim=1)\n",
    "        return output"
   ]
  },
  {
   "cell_type": "markdown",
   "metadata": {},
   "source": [
    "### 主模型定義"
   ]
  },
  {
   "cell_type": "code",
   "execution_count": 6,
   "metadata": {},
   "outputs": [],
   "source": [
    "class DFTC(nn.Module):\n",
    "    def __init__(self, embed_size, seq_max_len, hid_size, vocab_n):\n",
    "        super(DFTC, self).__init__()\n",
    "        self.TR = TemporalLSTM(1, hid_size)\n",
    "        self.TC = TemporalCNN(1, seq_max_len, hid_size)\n",
    "        self.V = nn.Parameter(torch.randn(hid_size, 4))\n",
    "        self.W_R = nn.Linear(hid_size, hid_size)\n",
    "        self.W_C = nn.Linear(5, hid_size)\n",
    "        self.W_H = nn.Linear(embed_size, hid_size)\n",
    "        self.W_E = nn.Linear(hid_size, hid_size)\n",
    "        self.dense = nn.Linear(hid_size, 1)\n",
    "        self.content_model = TransformerModel(vocab_n, embed_size, 4, 256, 2)\n",
    "#         self.content_dense = nn.Linear(embed_size, hid_size)\n",
    "        self.V2 = nn.Parameter(torch.randn(126, embed_size, 1))\n",
    "        self.e_dense = nn.Linear(2 + hid_size, hid_size)\n",
    "        self.time_emb = nn.Embedding(24, hid_size)\n",
    "    \n",
    "    def forward(self, x, x2, pad, content_x, author_f, pub_time):\n",
    "        TR_x = self.TR(x)\n",
    "        TC_x = self.TC(torch.transpose(x2, 1, 2), pad)\n",
    "#         self.W_R(TR_x)\n",
    "        content_f = self.content_model(content_x)\n",
    "#         content_f = self.content_dense(content_f)\n",
    "        content_att = F.softmax(torch.matmul(content_f.unsqueeze(2), self.V2).squeeze(2), dim=1)\n",
    "        content_f = torch.sum(torch.mul(content_att, content_f), dim=1)\n",
    "        time_embedding = self.time_emb(pub_time)\n",
    "        meta_f = self.e_dense(torch.cat([author_f, time_embedding], dim=1))\n",
    "        h_all = torch.cat([self.W_R(TR_x).unsqueeze(1), self.W_C(TC_x).unsqueeze(1), self.W_H(content_f).unsqueeze(1), self.W_E(meta_f).unsqueeze(1)], dim=1)  # , self.W_H(content_x)\n",
    "        att = nn.Softmax(dim=1)(torch.matmul(torch.tanh(torch.sum(h_all, dim=1)), self.V)).unsqueeze(2)\n",
    "        output = torch.sum(torch.mul(att, h_all), dim=1)\n",
    "        output = nn.LeakyReLU()(self.dense(output))\n",
    "        return output"
   ]
  },
  {
   "cell_type": "markdown",
   "metadata": {},
   "source": [
    "## 讀取特徵資料"
   ]
  },
  {
   "cell_type": "code",
   "execution_count": 11,
   "metadata": {},
   "outputs": [],
   "source": [
    "with open(\"data.json\", \"r\") as f:\n",
    "    source_data = json.load(f)"
   ]
  },
  {
   "cell_type": "code",
   "execution_count": 12,
   "metadata": {},
   "outputs": [],
   "source": [
    "with open(\"author_feature.json\", \"r\") as f:\n",
    "    author_feature = json.load(f)"
   ]
  },
  {
   "cell_type": "code",
   "execution_count": 13,
   "metadata": {},
   "outputs": [],
   "source": [
    "G = nx.read_adjlist(\"../HatePolitics/HatePolitics_graph07.adjlist\")"
   ]
  },
  {
   "cell_type": "code",
   "execution_count": 14,
   "metadata": {},
   "outputs": [],
   "source": [
    "seq_data = source_data['seq_data']\n",
    "seq_data2 = source_data['seq_data2']\n",
    "level = source_data['level']\n",
    "urls = source_data['urls']\n",
    "content = source_data['content']\n",
    "author = source_data['author']\n",
    "publish_time = source_data['publish_time']"
   ]
  },
  {
   "cell_type": "code",
   "execution_count": 15,
   "metadata": {},
   "outputs": [],
   "source": [
    "author_feature_list = []\n",
    "for a in author:\n",
    "    author_feature_list.append([\n",
    "        author_feature[a]['avg_comment'],\n",
    "        author_feature[a]['pop_a'],\n",
    "    ])"
   ]
  },
  {
   "cell_type": "code",
   "execution_count": 16,
   "metadata": {},
   "outputs": [],
   "source": [
    "def one_hot(array, num_classes=None):\n",
    "    enc_data = []\n",
    "    for e in array:\n",
    "        enc = np.zeros(num_classes)\n",
    "        enc[e] = 1.\n",
    "        enc_data.append(enc)\n",
    "    return np.array(enc_data)"
   ]
  },
  {
   "cell_type": "code",
   "execution_count": 17,
   "metadata": {},
   "outputs": [],
   "source": [
    "row_pair = list(zip(seq_data, seq_data2, level, urls, content, author_feature_list, publish_time))\n",
    "random.seed(1)\n",
    "random.shuffle(row_pair)\n",
    "seq_data, seq_data2, level, urls, content, author_feature_list, publish_time = zip(*row_pair)"
   ]
  },
  {
   "cell_type": "markdown",
   "metadata": {},
   "source": [
    "## 處理文字index"
   ]
  },
  {
   "cell_type": "code",
   "execution_count": 18,
   "metadata": {},
   "outputs": [],
   "source": [
    "word2idx = {}\n",
    "for row in content:\n",
    "    for w in row:\n",
    "        try:\n",
    "            word2idx[w]\n",
    "        except KeyError:\n",
    "            word2idx[w] = len(word2idx)\n",
    "word2idx['[UNK]'] = len(word2idx)\n",
    "word2idx['[PAD]'] = len(word2idx)"
   ]
  },
  {
   "cell_type": "code",
   "execution_count": 19,
   "metadata": {},
   "outputs": [],
   "source": [
    "data_x = list(zip(seq_data, seq_data2, content, author_feature_list, publish_time))"
   ]
  },
  {
   "cell_type": "markdown",
   "metadata": {},
   "source": [
    "## train test split"
   ]
  },
  {
   "cell_type": "code",
   "execution_count": 20,
   "metadata": {},
   "outputs": [],
   "source": [
    "train_x = data_x[:120000]\n",
    "train_y = level[:120000]\n",
    "val_x = data_x[120000:144000]\n",
    "val_y = level[120000:144000]"
   ]
  },
  {
   "cell_type": "markdown",
   "metadata": {},
   "source": [
    "## 初始化模型"
   ]
  },
  {
   "cell_type": "code",
   "execution_count": 21,
   "metadata": {},
   "outputs": [
    {
     "data": {
      "text/plain": [
       "DFTC(\n",
       "  (TR): TemporalLSTM(\n",
       "    (lstm): LSTM(1, 64)\n",
       "  )\n",
       "  (TC): TemporalCNN(\n",
       "    (conv1): Conv1d(1, 1, kernel_size=(1,), stride=(1,))\n",
       "    (conv3): Conv1d(1, 1, kernel_size=(3,), stride=(1,), padding=(1,))\n",
       "    (conv5): Conv1d(1, 1, kernel_size=(5,), stride=(1,), padding=(2,))\n",
       "    (conv2): Conv1d(1, 1, kernel_size=(2,), stride=(1,))\n",
       "    (conv4): Conv1d(1, 1, kernel_size=(4,), stride=(1,), padding=(1,))\n",
       "    (W): Linear(in_features=5, out_features=64, bias=True)\n",
       "    (dense_q): Linear(in_features=5, out_features=64, bias=True)\n",
       "    (dense_k): Linear(in_features=5, out_features=64, bias=True)\n",
       "    (dense_v): Linear(in_features=5, out_features=64, bias=True)\n",
       "  )\n",
       "  (W_R): Linear(in_features=64, out_features=64, bias=True)\n",
       "  (W_C): Linear(in_features=5, out_features=64, bias=True)\n",
       "  (W_H): Linear(in_features=128, out_features=64, bias=True)\n",
       "  (W_E): Linear(in_features=64, out_features=64, bias=True)\n",
       "  (dense): Linear(in_features=64, out_features=1, bias=True)\n",
       "  (content_model): TransformerModel(\n",
       "    (pos_encoder): PositionalEncoding(\n",
       "      (dropout): Dropout(p=0.5, inplace=False)\n",
       "    )\n",
       "    (transformer_encoder): TransformerEncoder(\n",
       "      (layers): ModuleList(\n",
       "        (0): TransformerEncoderLayer(\n",
       "          (self_attn): MultiheadAttention(\n",
       "            (out_proj): Linear(in_features=128, out_features=128, bias=True)\n",
       "          )\n",
       "          (linear1): Linear(in_features=128, out_features=256, bias=True)\n",
       "          (dropout): Dropout(p=0.5, inplace=False)\n",
       "          (linear2): Linear(in_features=256, out_features=128, bias=True)\n",
       "          (norm1): LayerNorm((128,), eps=1e-05, elementwise_affine=True)\n",
       "          (norm2): LayerNorm((128,), eps=1e-05, elementwise_affine=True)\n",
       "          (dropout1): Dropout(p=0.5, inplace=False)\n",
       "          (dropout2): Dropout(p=0.5, inplace=False)\n",
       "        )\n",
       "        (1): TransformerEncoderLayer(\n",
       "          (self_attn): MultiheadAttention(\n",
       "            (out_proj): Linear(in_features=128, out_features=128, bias=True)\n",
       "          )\n",
       "          (linear1): Linear(in_features=128, out_features=256, bias=True)\n",
       "          (dropout): Dropout(p=0.5, inplace=False)\n",
       "          (linear2): Linear(in_features=256, out_features=128, bias=True)\n",
       "          (norm1): LayerNorm((128,), eps=1e-05, elementwise_affine=True)\n",
       "          (norm2): LayerNorm((128,), eps=1e-05, elementwise_affine=True)\n",
       "          (dropout1): Dropout(p=0.5, inplace=False)\n",
       "          (dropout2): Dropout(p=0.5, inplace=False)\n",
       "        )\n",
       "      )\n",
       "    )\n",
       "    (encoder): Embedding(655334, 128)\n",
       "  )\n",
       "  (e_dense): Linear(in_features=66, out_features=64, bias=True)\n",
       "  (time_emb): Embedding(24, 64)\n",
       ")"
      ]
     },
     "execution_count": 21,
     "metadata": {},
     "output_type": "execute_result"
    }
   ],
   "source": [
    "model = DFTC(128, len(max(seq_data)), 64 , len(word2idx))\n",
    "model.cuda()"
   ]
  },
  {
   "cell_type": "markdown",
   "metadata": {},
   "source": [
    "## 訓練超參數定義"
   ]
  },
  {
   "cell_type": "code",
   "execution_count": 22,
   "metadata": {},
   "outputs": [],
   "source": [
    "optimizer = torch.optim.Adam(model.parameters(), lr=0.001)\n",
    "scheduler = torch.optim.lr_scheduler.StepLR(optimizer, step_size=1)\n",
    "start_epoch = 1"
   ]
  },
  {
   "cell_type": "code",
   "execution_count": 23,
   "metadata": {},
   "outputs": [],
   "source": [
    "train_epoch = 30\n",
    "batch_size = 200\n",
    "train_step = len(train_x) / batch_size\n",
    "val_step = len(val_x) / batch_size"
   ]
  },
  {
   "cell_type": "markdown",
   "metadata": {},
   "source": [
    "## data generator"
   ]
  },
  {
   "cell_type": "code",
   "execution_count": 24,
   "metadata": {},
   "outputs": [],
   "source": [
    "def gen_data():\n",
    "    for i in range(0, len(train_x), batch_size):\n",
    "        train_seq, train_seq2, train_cont, train_af, train_pubtime = zip(*train_x[i: i+batch_size])\n",
    "#         train_pubtime = one_hot(train_pubtime, num_classes=24)\n",
    "        yield (train_seq, train_seq2, train_cont, train_af, train_pubtime), train_y[i: i+batch_size]"
   ]
  },
  {
   "cell_type": "code",
   "execution_count": 25,
   "metadata": {},
   "outputs": [],
   "source": [
    "def gen_val_data():\n",
    "    for i in range(0, len(val_x), batch_size):\n",
    "        val_seq, val_seq2, val_cont, val_af, val_pubtime = zip(*val_x[i: i+batch_size])\n",
    "#         val_pubtime = one_hot(val_pubtime, num_classes=24)\n",
    "        yield (val_seq, val_seq2, val_cont, val_af, val_pubtime), val_y[i: i+batch_size]"
   ]
  },
  {
   "cell_type": "code",
   "execution_count": 28,
   "metadata": {},
   "outputs": [],
   "source": [
    "def gen_eval_data():\n",
    "    for i in range(0, len(test_x), batch_size):\n",
    "        test_seq, test_seq2, test_cont, test_af, test_pubtime = zip(*test_x[i: i+batch_size])\n",
    "        yield (test_seq, test_seq2, test_cont, test_af, test_pubtime), test_y[i: i+batch_size]"
   ]
  },
  {
   "cell_type": "markdown",
   "metadata": {},
   "source": [
    "## 開始訓練"
   ]
  },
  {
   "cell_type": "code",
   "execution_count": 26,
   "metadata": {
    "scrolled": true
   },
   "outputs": [
    {
     "name": "stdout",
     "output_type": "stream",
     "text": []
    },
    {
     "name": "stdout",
     "output_type": "stream",
     "text": [
      "Train Epoch: 0 [600/600.0 (59900.0%)]\tLoss: 15.079577\t, Time: 78.51826\n"
     ]
    },
    {
     "name": "stdout",
     "output_type": "stream",
     "text": [
      "Valid Epoch: 0 [120/120.0 (11900.008333333333%)] \tLoss: 15.106201\t, Time: 5.91668\n",
      "其他省略..."
     ]
    }
   ],
   "source": [
    "train_datas = 0\n",
    "train_loss = 0\n",
    "val_datas = 0\n",
    "val_loss = 0\n",
    "for epoch in range(1):\n",
    "    model.train()\n",
    "    t1 = time.time()\n",
    "    for batch_idx, (data, target) in enumerate(gen_data()):\n",
    "        seq = torch.tensor(data[0], dtype=torch.float).unsqueeze(2).cuda()\n",
    "        seq2 = torch.tensor(data[1], dtype=torch.float).unsqueeze(2).cuda()\n",
    "        cont = []\n",
    "        for row_cont in data[2]:\n",
    "            sent = []\n",
    "            for w in row_cont:\n",
    "                try:\n",
    "                    sent.append(word2idx[w])\n",
    "                except KeyError:\n",
    "                    sent.append(word2idx['[UNK]'])\n",
    "            sent += [word2idx['[PAD]']] * (126 - len(sent))\n",
    "            cont.append(sent)\n",
    "        cont = torch.tensor(cont, dtype=torch.long).cuda()\n",
    "        author_tenser = torch.tensor(data[3], dtype=torch.float).cuda()\n",
    "        pub_time_tensor = torch.tensor(data[4], dtype=torch.long).cuda()\n",
    "        target = torch.tensor(target, dtype=torch.float).cuda()\n",
    "        pad2 = torch.zeros(batch_size, 1, 1).cuda()\n",
    "        pad2.requires_grad = False\n",
    "        pad4 = torch.zeros(batch_size, 1, 1).cuda()\n",
    "        pad4.requires_grad = False\n",
    "        pad = (pad2, pad4)\n",
    "        optimizer.zero_grad()\n",
    "        output = model(seq, seq2, pad, cont, author_tenser, pub_time_tensor)\n",
    "#         print(output.shape)\n",
    "#         print(target.shape)\n",
    "        loss = torch.nn.functional.mse_loss(output, target.unsqueeze(-1))\n",
    "        train_loss += loss.item()\n",
    "        train_datas += batch_size\n",
    "        loss.backward()\n",
    "        optimizer.step()\n",
    "    t2 = time.time()\n",
    "    avg_loss = train_loss / train_datas\n",
    "    print('Train Epoch: {} [{:2d}/{} ({:.1f}%)]\\tLoss: {:.6f}\\t, Time: {:.5f}'.format(\n",
    "        epoch, batch_idx+1, train_step,\n",
    "        100. * batch_idx+1 / train_step, avg_loss, t2-t1))\n",
    "    t1 = time.time()\n",
    "    model.eval()\n",
    "    t1 = time.time()\n",
    "    for batch_idx, (data, target) in enumerate(gen_val_data()):\n",
    "        seq = torch.tensor(data[0], dtype=torch.float).unsqueeze(2).cuda()\n",
    "        seq2 = torch.tensor(data[1], dtype=torch.float).unsqueeze(2).cuda()\n",
    "        cont = []\n",
    "        for row_cont in data[2]:\n",
    "            sent = []\n",
    "            for w in row_cont:\n",
    "                try:\n",
    "                    sent.append(word2idx[w])\n",
    "                except KeyError:\n",
    "                    sent.append(word2idx['[UNK]'])\n",
    "            sent += [word2idx['[PAD]']] * (126 - len(sent))\n",
    "            cont.append(sent)\n",
    "        cont = torch.tensor(cont, dtype=torch.long).cuda()\n",
    "        author_tenser = torch.tensor(data[3], dtype=torch.float).cuda()\n",
    "        pub_time_tensor = torch.tensor(data[4], dtype=torch.long).cuda()\n",
    "        target = torch.tensor(target, dtype=torch.float).cuda()\n",
    "        pad2 = torch.zeros(batch_size, 1, 1).cuda()\n",
    "        pad2.requires_grad = False\n",
    "        pad4 = torch.zeros(batch_size, 1, 1).cuda()\n",
    "        pad4.requires_grad = False\n",
    "        pad = (pad2, pad4)\n",
    "        output = model(seq, seq2, pad, cont, author_tenser, pub_time_tensor)\n",
    "        loss = torch.nn.functional.mse_loss(output, target.unsqueeze(-1))\n",
    "        val_loss += loss.item()\n",
    "        val_datas += batch_size\n",
    "    t2 = time.time()\n",
    "    avg_loss = val_loss / val_datas\n",
    "    print('Valid Epoch: {} [{:2d}/{} ({}%)] \\tLoss: {:.6f}\\t, Time: {:.5f}'.format(\n",
    "        epoch, batch_idx+1, val_step,\n",
    "        100. * batch_idx+1 / val_step, avg_loss, t2-t1))"
   ]
  },
  {
   "cell_type": "markdown",
   "metadata": {},
   "source": [
    "儲存模型"
   ]
  },
  {
   "cell_type": "code",
   "execution_count": 53,
   "metadata": {},
   "outputs": [],
   "source": [
    "torch.save({\n",
    "    \"epoch\": train_epoch,\n",
    "    \"model_state_dict\": model.state_dict(),\n",
    "    \"optimizer_state_dict\": optimizer.state_dict()\n",
    "}, \"DFTC_{}.ckpt\".format(train_epoch))"
   ]
  },
  {
   "cell_type": "markdown",
   "metadata": {},
   "source": [
    "## 測試模型"
   ]
  },
  {
   "cell_type": "code",
   "execution_count": 27,
   "metadata": {},
   "outputs": [],
   "source": [
    "test_x = data_x[120000:144000]\n",
    "test_y = level[120000:144000]"
   ]
  },
  {
   "cell_type": "code",
   "execution_count": 29,
   "metadata": {},
   "outputs": [],
   "source": [
    "eval_step = len(test_x) / batch_size"
   ]
  },
  {
   "cell_type": "code",
   "execution_count": 30,
   "metadata": {
    "scrolled": true
   },
   "outputs": [
    {
     "name": "stdout",
     "output_type": "stream",
     "text": [
      "Prdict process: [10/120.0 (8%)]\tLoss: 3.978817\t, Time: 0.17616057395935059\n",
      "Prdict process: [20/120.0 (17%)]\tLoss: 4.552621\t, Time: 0.15739154815673828\n",
      "Prdict process: [30/120.0 (25%)]\tLoss: 3.746260\t, Time: 0.15983963012695312\n",
      "Prdict process: [40/120.0 (33%)]\tLoss: 3.416740\t, Time: 0.15832924842834473\n",
      "Prdict process: [50/120.0 (42%)]\tLoss: 2.863694\t, Time: 0.15861868858337402\n",
      "Prdict process: [60/120.0 (50%)]\tLoss: 2.517972\t, Time: 0.15877771377563477\n",
      "Prdict process: [70/120.0 (58%)]\tLoss: 2.292174\t, Time: 0.1608872413635254\n",
      "Prdict process: [80/120.0 (67%)]\tLoss: 2.212564\t, Time: 0.15871095657348633\n",
      "Prdict process: [90/120.0 (75%)]\tLoss: 2.284500\t, Time: 0.15883469581604004\n",
      "Prdict process: [100/120.0 (83%)]\tLoss: 2.270953\t, Time: 0.15856313705444336\n",
      "Prdict process: [110/120.0 (92%)]\tLoss: 2.230916\t, Time: 0.158674955368042\n"
     ]
    }
   ],
   "source": [
    "model.eval()\n",
    "t1 = time.time()\n",
    "correct = 0\n",
    "train_datas = 0\n",
    "train_loss = 0\n",
    "result = []\n",
    "for batch_idx, (data, target) in enumerate(gen_eval_data()):\n",
    "    seq = torch.tensor(data[0], dtype=torch.float).unsqueeze(2).cuda()\n",
    "    seq2 = torch.tensor(data[1], dtype=torch.float).unsqueeze(2).cuda()\n",
    "    cont = []\n",
    "    for row_cont in data[2]:\n",
    "        sent = []\n",
    "        for w in row_cont:\n",
    "            try:\n",
    "                sent.append(word2idx[w])\n",
    "            except KeyError:\n",
    "                sent.append(word2idx['[UNK]'])\n",
    "        sent += [word2idx['[PAD]']] * (126 - len(sent))\n",
    "        cont.append(sent)\n",
    "    cont = torch.tensor(cont, dtype=torch.long).cuda()\n",
    "    author_tenser = torch.tensor(data[3], dtype=torch.float).cuda()\n",
    "    pub_time_tensor = torch.tensor(data[4], dtype=torch.long).cuda()\n",
    "    target = torch.tensor(target, dtype=torch.float).cuda()\n",
    "    pad2 = torch.zeros(batch_size, 1, 1).cuda()\n",
    "    pad2.requires_grad = False\n",
    "    pad4 = torch.zeros(batch_size, 1, 1).cuda()\n",
    "    pad4.requires_grad = False\n",
    "    pad = (pad2, pad4)\n",
    "    optimizer.zero_grad()\n",
    "    output = model(seq, seq2, pad, cont, author_tenser, pub_time_tensor)\n",
    "    loss = torch.nn.functional.mse_loss(output, target.unsqueeze(-1))\n",
    "    train_loss += loss.item()\n",
    "    train_datas += batch_size\n",
    "    result.append(output.cpu().detach().numpy())\n",
    "    if batch_idx % 10 == 0 and batch_idx != 0:\n",
    "        t2 = time.time()\n",
    "        avg_loss = train_loss / train_datas\n",
    "        print('Prdict process: [{}/{} ({:.0f}%)]\\tLoss: {:.6f}\\t, Time: {}'.format(\n",
    "            epoch, batch_idx, eval_step,\n",
    "            100. * batch_idx / eval_step, avg_loss, t2-t1))\n",
    "        t1 = t2"
   ]
  },
  {
   "cell_type": "markdown",
   "metadata": {},
   "source": [
    "跑預測"
   ]
  },
  {
   "cell_type": "code",
   "execution_count": 31,
   "metadata": {},
   "outputs": [],
   "source": [
    "predict_result = np.array(result)"
   ]
  },
  {
   "cell_type": "code",
   "execution_count": 33,
   "metadata": {},
   "outputs": [],
   "source": [
    "predict_result = predict_result.reshape(predict_result.shape[0] * predict_result.shape[1], 1).astype(np.int16)"
   ]
  },
  {
   "cell_type": "code",
   "execution_count": 39,
   "metadata": {},
   "outputs": [],
   "source": [
    "predict = []\n",
    "target = []\n",
    "feature = []\n",
    "for i, (p, t, x) in enumerate(zip(predict_result, test_y, test_x)):\n",
    "    predict.append(p[0])\n",
    "    target.append(t)\n",
    "    feature.append(x[0][-1])"
   ]
  },
  {
   "cell_type": "code",
   "execution_count": 40,
   "metadata": {
    "scrolled": true
   },
   "outputs": [],
   "source": [
    "df = pd.DataFrame({\"Predict\": predict, \"Ground True\": target, \"URL\": urls[120000:144000], \"Num\": feature})"
   ]
  },
  {
   "cell_type": "markdown",
   "metadata": {},
   "source": [
    "## 模型預測測試資料觀察"
   ]
  },
  {
   "cell_type": "code",
   "execution_count": 41,
   "metadata": {},
   "outputs": [
    {
     "data": {
      "text/html": [
       "<div>\n",
       "<style scoped>\n",
       "    .dataframe tbody tr th:only-of-type {\n",
       "        vertical-align: middle;\n",
       "    }\n",
       "\n",
       "    .dataframe tbody tr th {\n",
       "        vertical-align: top;\n",
       "    }\n",
       "\n",
       "    .dataframe thead th {\n",
       "        text-align: right;\n",
       "    }\n",
       "</style>\n",
       "<table border=\"1\" class=\"dataframe\">\n",
       "  <thead>\n",
       "    <tr style=\"text-align: right;\">\n",
       "      <th></th>\n",
       "      <th>Ground True</th>\n",
       "      <th>Num</th>\n",
       "      <th>Predict</th>\n",
       "      <th>URL</th>\n",
       "    </tr>\n",
       "  </thead>\n",
       "  <tbody>\n",
       "    <tr>\n",
       "      <th>0</th>\n",
       "      <td>9</td>\n",
       "      <td>8</td>\n",
       "      <td>11</td>\n",
       "      <td>M.1596947250.A.0DF</td>\n",
       "    </tr>\n",
       "    <tr>\n",
       "      <th>1</th>\n",
       "      <td>6</td>\n",
       "      <td>4</td>\n",
       "      <td>7</td>\n",
       "      <td>M.1594385250.A.B17</td>\n",
       "    </tr>\n",
       "    <tr>\n",
       "      <th>2</th>\n",
       "      <td>19</td>\n",
       "      <td>16</td>\n",
       "      <td>20</td>\n",
       "      <td>M.1592922962.A.A5F</td>\n",
       "    </tr>\n",
       "    <tr>\n",
       "      <th>3</th>\n",
       "      <td>47</td>\n",
       "      <td>33</td>\n",
       "      <td>41</td>\n",
       "      <td>M.1592992689.A.DEE</td>\n",
       "    </tr>\n",
       "    <tr>\n",
       "      <th>4</th>\n",
       "      <td>6</td>\n",
       "      <td>2</td>\n",
       "      <td>6</td>\n",
       "      <td>M.1591206331.A.C5A</td>\n",
       "    </tr>\n",
       "    <tr>\n",
       "      <th>5</th>\n",
       "      <td>15</td>\n",
       "      <td>14</td>\n",
       "      <td>16</td>\n",
       "      <td>M.1594351603.A.F78</td>\n",
       "    </tr>\n",
       "    <tr>\n",
       "      <th>6</th>\n",
       "      <td>746</td>\n",
       "      <td>326</td>\n",
       "      <td>712</td>\n",
       "      <td>M.1596154881.A.ABE</td>\n",
       "    </tr>\n",
       "    <tr>\n",
       "      <th>7</th>\n",
       "      <td>23</td>\n",
       "      <td>19</td>\n",
       "      <td>24</td>\n",
       "      <td>M.1588833977.A.D8A</td>\n",
       "    </tr>\n",
       "    <tr>\n",
       "      <th>8</th>\n",
       "      <td>22</td>\n",
       "      <td>19</td>\n",
       "      <td>20</td>\n",
       "      <td>M.1594274163.A.A9B</td>\n",
       "    </tr>\n",
       "    <tr>\n",
       "      <th>9</th>\n",
       "      <td>30</td>\n",
       "      <td>28</td>\n",
       "      <td>33</td>\n",
       "      <td>M.1591679483.A.5F5</td>\n",
       "    </tr>\n",
       "    <tr>\n",
       "      <th>10</th>\n",
       "      <td>7</td>\n",
       "      <td>6</td>\n",
       "      <td>7</td>\n",
       "      <td>M.1592621845.A.17A</td>\n",
       "    </tr>\n",
       "    <tr>\n",
       "      <th>11</th>\n",
       "      <td>41</td>\n",
       "      <td>39</td>\n",
       "      <td>46</td>\n",
       "      <td>M.1589443779.A.964</td>\n",
       "    </tr>\n",
       "    <tr>\n",
       "      <th>12</th>\n",
       "      <td>30</td>\n",
       "      <td>25</td>\n",
       "      <td>30</td>\n",
       "      <td>M.1593749101.A.EF1</td>\n",
       "    </tr>\n",
       "    <tr>\n",
       "      <th>13</th>\n",
       "      <td>11</td>\n",
       "      <td>8</td>\n",
       "      <td>9</td>\n",
       "      <td>M.1598197254.A.7E8</td>\n",
       "    </tr>\n",
       "    <tr>\n",
       "      <th>14</th>\n",
       "      <td>12</td>\n",
       "      <td>11</td>\n",
       "      <td>15</td>\n",
       "      <td>M.1592298550.A.219</td>\n",
       "    </tr>\n",
       "    <tr>\n",
       "      <th>15</th>\n",
       "      <td>8</td>\n",
       "      <td>6</td>\n",
       "      <td>8</td>\n",
       "      <td>M.1594038760.A.8E5</td>\n",
       "    </tr>\n",
       "    <tr>\n",
       "      <th>16</th>\n",
       "      <td>16</td>\n",
       "      <td>15</td>\n",
       "      <td>18</td>\n",
       "      <td>M.1590985320.A.75F</td>\n",
       "    </tr>\n",
       "    <tr>\n",
       "      <th>17</th>\n",
       "      <td>22</td>\n",
       "      <td>18</td>\n",
       "      <td>22</td>\n",
       "      <td>M.1595588796.A.BA9</td>\n",
       "    </tr>\n",
       "    <tr>\n",
       "      <th>18</th>\n",
       "      <td>18</td>\n",
       "      <td>15</td>\n",
       "      <td>19</td>\n",
       "      <td>M.1596201719.A.215</td>\n",
       "    </tr>\n",
       "    <tr>\n",
       "      <th>19</th>\n",
       "      <td>21</td>\n",
       "      <td>9</td>\n",
       "      <td>15</td>\n",
       "      <td>M.1591728094.A.715</td>\n",
       "    </tr>\n",
       "    <tr>\n",
       "      <th>20</th>\n",
       "      <td>8</td>\n",
       "      <td>7</td>\n",
       "      <td>10</td>\n",
       "      <td>M.1592384489.A.CC4</td>\n",
       "    </tr>\n",
       "    <tr>\n",
       "      <th>21</th>\n",
       "      <td>15</td>\n",
       "      <td>14</td>\n",
       "      <td>15</td>\n",
       "      <td>M.1591548914.A.BB2</td>\n",
       "    </tr>\n",
       "    <tr>\n",
       "      <th>22</th>\n",
       "      <td>13</td>\n",
       "      <td>9</td>\n",
       "      <td>10</td>\n",
       "      <td>M.1588688978.A.517</td>\n",
       "    </tr>\n",
       "    <tr>\n",
       "      <th>23</th>\n",
       "      <td>19</td>\n",
       "      <td>11</td>\n",
       "      <td>13</td>\n",
       "      <td>M.1590271661.A.329</td>\n",
       "    </tr>\n",
       "    <tr>\n",
       "      <th>24</th>\n",
       "      <td>7</td>\n",
       "      <td>5</td>\n",
       "      <td>7</td>\n",
       "      <td>M.1589164711.A.4FF</td>\n",
       "    </tr>\n",
       "    <tr>\n",
       "      <th>25</th>\n",
       "      <td>9</td>\n",
       "      <td>7</td>\n",
       "      <td>8</td>\n",
       "      <td>M.1594716333.A.462</td>\n",
       "    </tr>\n",
       "    <tr>\n",
       "      <th>26</th>\n",
       "      <td>6</td>\n",
       "      <td>5</td>\n",
       "      <td>6</td>\n",
       "      <td>M.1589561242.A.600</td>\n",
       "    </tr>\n",
       "    <tr>\n",
       "      <th>27</th>\n",
       "      <td>38</td>\n",
       "      <td>32</td>\n",
       "      <td>36</td>\n",
       "      <td>M.1596096227.A.CAD</td>\n",
       "    </tr>\n",
       "    <tr>\n",
       "      <th>28</th>\n",
       "      <td>5</td>\n",
       "      <td>3</td>\n",
       "      <td>6</td>\n",
       "      <td>M.1594729885.A.1E2</td>\n",
       "    </tr>\n",
       "    <tr>\n",
       "      <th>29</th>\n",
       "      <td>55</td>\n",
       "      <td>51</td>\n",
       "      <td>63</td>\n",
       "      <td>M.1588755390.A.FF7</td>\n",
       "    </tr>\n",
       "    <tr>\n",
       "      <th>...</th>\n",
       "      <td>...</td>\n",
       "      <td>...</td>\n",
       "      <td>...</td>\n",
       "      <td>...</td>\n",
       "    </tr>\n",
       "    <tr>\n",
       "      <th>23970</th>\n",
       "      <td>3</td>\n",
       "      <td>2</td>\n",
       "      <td>3</td>\n",
       "      <td>M.1594135239.A.70E</td>\n",
       "    </tr>\n",
       "    <tr>\n",
       "      <th>23971</th>\n",
       "      <td>11</td>\n",
       "      <td>9</td>\n",
       "      <td>11</td>\n",
       "      <td>M.1596202199.A.0BB</td>\n",
       "    </tr>\n",
       "    <tr>\n",
       "      <th>23972</th>\n",
       "      <td>16</td>\n",
       "      <td>12</td>\n",
       "      <td>13</td>\n",
       "      <td>M.1591112439.A.6AD</td>\n",
       "    </tr>\n",
       "    <tr>\n",
       "      <th>23973</th>\n",
       "      <td>30</td>\n",
       "      <td>27</td>\n",
       "      <td>38</td>\n",
       "      <td>M.1596101634.A.4BB</td>\n",
       "    </tr>\n",
       "    <tr>\n",
       "      <th>23974</th>\n",
       "      <td>6</td>\n",
       "      <td>5</td>\n",
       "      <td>6</td>\n",
       "      <td>M.1590889738.A.940</td>\n",
       "    </tr>\n",
       "    <tr>\n",
       "      <th>23975</th>\n",
       "      <td>90</td>\n",
       "      <td>78</td>\n",
       "      <td>129</td>\n",
       "      <td>M.1591099326.A.F41</td>\n",
       "    </tr>\n",
       "    <tr>\n",
       "      <th>23976</th>\n",
       "      <td>26</td>\n",
       "      <td>23</td>\n",
       "      <td>29</td>\n",
       "      <td>M.1595088602.A.C9C</td>\n",
       "    </tr>\n",
       "    <tr>\n",
       "      <th>23977</th>\n",
       "      <td>15</td>\n",
       "      <td>14</td>\n",
       "      <td>16</td>\n",
       "      <td>M.1594783919.A.DD3</td>\n",
       "    </tr>\n",
       "    <tr>\n",
       "      <th>23978</th>\n",
       "      <td>28</td>\n",
       "      <td>22</td>\n",
       "      <td>27</td>\n",
       "      <td>M.1588923605.A.BDC</td>\n",
       "    </tr>\n",
       "    <tr>\n",
       "      <th>23979</th>\n",
       "      <td>35</td>\n",
       "      <td>33</td>\n",
       "      <td>34</td>\n",
       "      <td>M.1589445320.A.E14</td>\n",
       "    </tr>\n",
       "    <tr>\n",
       "      <th>23980</th>\n",
       "      <td>3</td>\n",
       "      <td>2</td>\n",
       "      <td>5</td>\n",
       "      <td>M.1589702676.A.DD3</td>\n",
       "    </tr>\n",
       "    <tr>\n",
       "      <th>23981</th>\n",
       "      <td>1442</td>\n",
       "      <td>623</td>\n",
       "      <td>1067</td>\n",
       "      <td>M.1591857675.A.D2F</td>\n",
       "    </tr>\n",
       "    <tr>\n",
       "      <th>23982</th>\n",
       "      <td>12</td>\n",
       "      <td>11</td>\n",
       "      <td>15</td>\n",
       "      <td>M.1593348868.A.26F</td>\n",
       "    </tr>\n",
       "    <tr>\n",
       "      <th>23983</th>\n",
       "      <td>5</td>\n",
       "      <td>3</td>\n",
       "      <td>3</td>\n",
       "      <td>M.1599663762.A.64B</td>\n",
       "    </tr>\n",
       "    <tr>\n",
       "      <th>23984</th>\n",
       "      <td>37</td>\n",
       "      <td>26</td>\n",
       "      <td>32</td>\n",
       "      <td>M.1594290810.A.067</td>\n",
       "    </tr>\n",
       "    <tr>\n",
       "      <th>23985</th>\n",
       "      <td>13</td>\n",
       "      <td>12</td>\n",
       "      <td>14</td>\n",
       "      <td>M.1591454333.A.784</td>\n",
       "    </tr>\n",
       "    <tr>\n",
       "      <th>23986</th>\n",
       "      <td>8</td>\n",
       "      <td>6</td>\n",
       "      <td>8</td>\n",
       "      <td>M.1595869328.A.065</td>\n",
       "    </tr>\n",
       "    <tr>\n",
       "      <th>23987</th>\n",
       "      <td>18</td>\n",
       "      <td>11</td>\n",
       "      <td>15</td>\n",
       "      <td>M.1588951620.A.F94</td>\n",
       "    </tr>\n",
       "    <tr>\n",
       "      <th>23988</th>\n",
       "      <td>5</td>\n",
       "      <td>4</td>\n",
       "      <td>6</td>\n",
       "      <td>M.1595307529.A.24A</td>\n",
       "    </tr>\n",
       "    <tr>\n",
       "      <th>23989</th>\n",
       "      <td>4</td>\n",
       "      <td>2</td>\n",
       "      <td>4</td>\n",
       "      <td>M.1588521903.A.7F5</td>\n",
       "    </tr>\n",
       "    <tr>\n",
       "      <th>23990</th>\n",
       "      <td>8</td>\n",
       "      <td>6</td>\n",
       "      <td>8</td>\n",
       "      <td>M.1591075977.A.931</td>\n",
       "    </tr>\n",
       "    <tr>\n",
       "      <th>23991</th>\n",
       "      <td>4</td>\n",
       "      <td>3</td>\n",
       "      <td>4</td>\n",
       "      <td>M.1590230899.A.839</td>\n",
       "    </tr>\n",
       "    <tr>\n",
       "      <th>23992</th>\n",
       "      <td>42</td>\n",
       "      <td>29</td>\n",
       "      <td>34</td>\n",
       "      <td>M.1589768375.A.932</td>\n",
       "    </tr>\n",
       "    <tr>\n",
       "      <th>23993</th>\n",
       "      <td>68</td>\n",
       "      <td>19</td>\n",
       "      <td>24</td>\n",
       "      <td>M.1595980537.A.CCA</td>\n",
       "    </tr>\n",
       "    <tr>\n",
       "      <th>23994</th>\n",
       "      <td>37</td>\n",
       "      <td>35</td>\n",
       "      <td>39</td>\n",
       "      <td>M.1592292895.A.CED</td>\n",
       "    </tr>\n",
       "    <tr>\n",
       "      <th>23995</th>\n",
       "      <td>17</td>\n",
       "      <td>15</td>\n",
       "      <td>19</td>\n",
       "      <td>M.1594369756.A.A20</td>\n",
       "    </tr>\n",
       "    <tr>\n",
       "      <th>23996</th>\n",
       "      <td>12</td>\n",
       "      <td>6</td>\n",
       "      <td>7</td>\n",
       "      <td>M.1594746813.A.8ED</td>\n",
       "    </tr>\n",
       "    <tr>\n",
       "      <th>23997</th>\n",
       "      <td>7</td>\n",
       "      <td>6</td>\n",
       "      <td>8</td>\n",
       "      <td>M.1592314403.A.E0C</td>\n",
       "    </tr>\n",
       "    <tr>\n",
       "      <th>23998</th>\n",
       "      <td>21</td>\n",
       "      <td>19</td>\n",
       "      <td>22</td>\n",
       "      <td>M.1594570671.A.74E</td>\n",
       "    </tr>\n",
       "    <tr>\n",
       "      <th>23999</th>\n",
       "      <td>10</td>\n",
       "      <td>9</td>\n",
       "      <td>10</td>\n",
       "      <td>M.1591707956.A.1A3</td>\n",
       "    </tr>\n",
       "  </tbody>\n",
       "</table>\n",
       "<p>24000 rows × 4 columns</p>\n",
       "</div>"
      ],
      "text/plain": [
       "       Ground True  Num  Predict                 URL\n",
       "0                9    8       11  M.1596947250.A.0DF\n",
       "1                6    4        7  M.1594385250.A.B17\n",
       "2               19   16       20  M.1592922962.A.A5F\n",
       "3               47   33       41  M.1592992689.A.DEE\n",
       "4                6    2        6  M.1591206331.A.C5A\n",
       "5               15   14       16  M.1594351603.A.F78\n",
       "6              746  326      712  M.1596154881.A.ABE\n",
       "7               23   19       24  M.1588833977.A.D8A\n",
       "8               22   19       20  M.1594274163.A.A9B\n",
       "9               30   28       33  M.1591679483.A.5F5\n",
       "10               7    6        7  M.1592621845.A.17A\n",
       "11              41   39       46  M.1589443779.A.964\n",
       "12              30   25       30  M.1593749101.A.EF1\n",
       "13              11    8        9  M.1598197254.A.7E8\n",
       "14              12   11       15  M.1592298550.A.219\n",
       "15               8    6        8  M.1594038760.A.8E5\n",
       "16              16   15       18  M.1590985320.A.75F\n",
       "17              22   18       22  M.1595588796.A.BA9\n",
       "18              18   15       19  M.1596201719.A.215\n",
       "19              21    9       15  M.1591728094.A.715\n",
       "20               8    7       10  M.1592384489.A.CC4\n",
       "21              15   14       15  M.1591548914.A.BB2\n",
       "22              13    9       10  M.1588688978.A.517\n",
       "23              19   11       13  M.1590271661.A.329\n",
       "24               7    5        7  M.1589164711.A.4FF\n",
       "25               9    7        8  M.1594716333.A.462\n",
       "26               6    5        6  M.1589561242.A.600\n",
       "27              38   32       36  M.1596096227.A.CAD\n",
       "28               5    3        6  M.1594729885.A.1E2\n",
       "29              55   51       63  M.1588755390.A.FF7\n",
       "...            ...  ...      ...                 ...\n",
       "23970            3    2        3  M.1594135239.A.70E\n",
       "23971           11    9       11  M.1596202199.A.0BB\n",
       "23972           16   12       13  M.1591112439.A.6AD\n",
       "23973           30   27       38  M.1596101634.A.4BB\n",
       "23974            6    5        6  M.1590889738.A.940\n",
       "23975           90   78      129  M.1591099326.A.F41\n",
       "23976           26   23       29  M.1595088602.A.C9C\n",
       "23977           15   14       16  M.1594783919.A.DD3\n",
       "23978           28   22       27  M.1588923605.A.BDC\n",
       "23979           35   33       34  M.1589445320.A.E14\n",
       "23980            3    2        5  M.1589702676.A.DD3\n",
       "23981         1442  623     1067  M.1591857675.A.D2F\n",
       "23982           12   11       15  M.1593348868.A.26F\n",
       "23983            5    3        3  M.1599663762.A.64B\n",
       "23984           37   26       32  M.1594290810.A.067\n",
       "23985           13   12       14  M.1591454333.A.784\n",
       "23986            8    6        8  M.1595869328.A.065\n",
       "23987           18   11       15  M.1588951620.A.F94\n",
       "23988            5    4        6  M.1595307529.A.24A\n",
       "23989            4    2        4  M.1588521903.A.7F5\n",
       "23990            8    6        8  M.1591075977.A.931\n",
       "23991            4    3        4  M.1590230899.A.839\n",
       "23992           42   29       34  M.1589768375.A.932\n",
       "23993           68   19       24  M.1595980537.A.CCA\n",
       "23994           37   35       39  M.1592292895.A.CED\n",
       "23995           17   15       19  M.1594369756.A.A20\n",
       "23996           12    6        7  M.1594746813.A.8ED\n",
       "23997            7    6        8  M.1592314403.A.E0C\n",
       "23998           21   19       22  M.1594570671.A.74E\n",
       "23999           10    9       10  M.1591707956.A.1A3\n",
       "\n",
       "[24000 rows x 4 columns]"
      ]
     },
     "execution_count": 41,
     "metadata": {},
     "output_type": "execute_result"
    }
   ],
   "source": [
    "df"
   ]
  },
  {
   "cell_type": "code",
   "execution_count": 40,
   "metadata": {},
   "outputs": [],
   "source": [
    "df['Rate'] = df['Ground True'] / df['Predict']"
   ]
  },
  {
   "cell_type": "code",
   "execution_count": 41,
   "metadata": {},
   "outputs": [],
   "source": [
    "error_rate = 0.3"
   ]
  },
  {
   "cell_type": "markdown",
   "metadata": {},
   "source": [
    "## 預測結果視覺化"
   ]
  },
  {
   "cell_type": "code",
   "execution_count": 42,
   "metadata": {},
   "outputs": [
    {
     "data": {
      "image/png": "[encoded data removed]",
      "text/plain": [
       "<Figure size 720x720 with 1 Axes>"
      ]
     },
     "metadata": {
      "needs_background": "light"
     },
     "output_type": "display_data"
    }
   ],
   "source": [
    "plt.figure(figsize=(10, 10))\n",
    "plt.scatter(df['Predict'], df['Ground True'])\n",
    "plt.plot([i for i in range(1400)], 'r')\n",
    "plt.xlabel(\"Predict\")\n",
    "plt.ylabel(\"Ground True\")\n",
    "plt.show()"
   ]
  },
  {
   "cell_type": "code",
   "execution_count": 43,
   "metadata": {},
   "outputs": [
    {
     "data": {
      "image/png": "[encoded data removed]",
      "text/plain": [
       "<Figure size 720x720 with 1 Axes>"
      ]
     },
     "metadata": {
      "needs_background": "light"
     },
     "output_type": "display_data"
    }
   ],
   "source": [
    "plt.figure(figsize=(10, 10))\n",
    "plt.scatter(df.loc[(df['Rate'] > (1-error_rate)) & (df['Rate'] < (1+error_rate))][\"Predict\"],\n",
    "            df.loc[(df['Rate'] > (1-error_rate)) & (df['Rate'] < (1+error_rate))]['Ground True'])\n",
    "plt.plot([i for i in range(1400)], 'r')\n",
    "plt.xlabel(\"Predict\")\n",
    "plt.ylabel(\"Ground True\")\n",
    "plt.show()"
   ]
  },
  {
   "cell_type": "markdown",
   "metadata": {},
   "source": [
    "## Classification Report"
   ]
  },
  {
   "cell_type": "code",
   "execution_count": 45,
   "metadata": {},
   "outputs": [],
   "source": [
    "def to_category(row):\n",
    "    if row < 27:\n",
    "        return 0\n",
    "    elif 27 <= row <= 175:\n",
    "        return 1\n",
    "    elif row > 175:\n",
    "        return 2"
   ]
  },
  {
   "cell_type": "code",
   "execution_count": 46,
   "metadata": {},
   "outputs": [],
   "source": [
    "df['Predict_label'] = df['Predict'].apply(to_category)"
   ]
  },
  {
   "cell_type": "code",
   "execution_count": 47,
   "metadata": {},
   "outputs": [],
   "source": [
    "df['Target_label'] = df['Ground True'].apply(to_category)"
   ]
  },
  {
   "cell_type": "code",
   "execution_count": 48,
   "metadata": {},
   "outputs": [],
   "source": [
    "from sklearn.metrics import classification_report, confusion_matrix"
   ]
  },
  {
   "cell_type": "code",
   "execution_count": 49,
   "metadata": {},
   "outputs": [],
   "source": [
    "import itertools"
   ]
  },
  {
   "cell_type": "code",
   "execution_count": 50,
   "metadata": {},
   "outputs": [
    {
     "name": "stdout",
     "output_type": "stream",
     "text": [
      "             precision    recall  f1-score   support\n",
      "\n",
      "          0       0.96      0.97      0.97     16740\n",
      "          1       0.91      0.91      0.91      6943\n",
      "          2       0.86      0.77      0.81       317\n",
      "\n",
      "avg / total       0.95      0.95      0.95     24000\n",
      "\n"
     ]
    }
   ],
   "source": [
    "print(classification_report(df['Target_label'].values, df['Predict_label'].values))"
   ]
  },
  {
   "cell_type": "markdown",
   "metadata": {},
   "source": [
    "## Confusion matrix"
   ]
  },
  {
   "cell_type": "code",
   "execution_count": 51,
   "metadata": {},
   "outputs": [],
   "source": [
    "def plot_confusion_matrix(cm, classes,\n",
    "                          normalize=False,\n",
    "                          title='Confusion matrix',\n",
    "                          cmap=plt.cm.Blues):\n",
    "    \"\"\"\n",
    "    This function prints and plots the confusion matrix.\n",
    "    Normalization can be applied by setting `normalize=True`.\n",
    "    \"\"\"\n",
    "    if normalize:\n",
    "        cm = cm.astype('float') / cm.sum(axis=1)[:, np.newaxis]\n",
    "        print(\"Normalized confusion matrix\")\n",
    "    else:\n",
    "        print('Confusion matrix, without normalization')\n",
    "\n",
    "    print(cm)\n",
    "\n",
    "    plt.imshow(cm, interpolation='nearest', cmap=cmap)\n",
    "    plt.title(title)\n",
    "    plt.colorbar()\n",
    "    tick_marks = np.arange(len(classes))\n",
    "    plt.xticks(tick_marks, classes, rotation=45)\n",
    "    plt.yticks(tick_marks, classes)\n",
    "\n",
    "    fmt = '.2f' if normalize else 'd'\n",
    "    thresh = cm.max() / 2.\n",
    "    for i, j in itertools.product(range(cm.shape[0]), range(cm.shape[1])):\n",
    "        plt.text(j, i, format(cm[i, j], fmt),\n",
    "                 horizontalalignment=\"center\",\n",
    "                 color=\"white\" if cm[i, j] > thresh else \"black\")\n",
    "\n",
    "    plt.ylabel('True label')\n",
    "    plt.xlabel('Predicted label')\n",
    "    plt.tight_layout()"
   ]
  },
  {
   "cell_type": "code",
   "execution_count": 52,
   "metadata": {},
   "outputs": [
    {
     "name": "stdout",
     "output_type": "stream",
     "text": [
      "Confusion matrix, without normalization\n",
      "[[16220   520     0]\n",
      " [  603  6302    38]\n",
      " [    2    72   243]]\n"
     ]
    },
    {
     "data": {
      "image/png": "[encoded data removed]",
      "text/plain": [
       "<Figure size 432x288 with 2 Axes>"
      ]
     },
     "metadata": {
      "needs_background": "light"
     },
     "output_type": "display_data"
    }
   ],
   "source": [
    "plt.figure()\n",
    "cnf_matrix = confusion_matrix(df['Target_label'].values, df['Predict_label'].values)\n",
    "plot_confusion_matrix(cnf_matrix, classes=[0, 1, 2], normalize=False, title='confusion matrix')\n",
    "plt.show()"
   ]
  },
  {
   "cell_type": "code",
   "execution_count": null,
   "metadata": {},
   "outputs": [],
   "source": []
  }
 ],
 "metadata": {
  "kernelspec": {
   "display_name": "Python 3 (ipykernel)",
   "language": "python",
   "name": "python3"
  },
  "language_info": {
   "codemirror_mode": {
    "name": "ipython",
    "version": 3
   },
   "file_extension": ".py",
   "mimetype": "text/x-python",
   "name": "python",
   "nbconvert_exporter": "python",
   "pygments_lexer": "ipython3",
   "version": "3.9.13"
  }
 },
 "nbformat": 4,
 "nbformat_minor": 4
}
